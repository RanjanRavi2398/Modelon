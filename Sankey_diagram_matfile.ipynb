{
 "cells": [
  {
   "cell_type": "code",
   "execution_count": 1,
   "metadata": {},
   "outputs": [],
   "source": [
    "from pyfmi.common.io import ResultDymolaBinary\n",
    "\n",
    "mat=ResultDymolaBinary(r'TestValues.mat')"
   ]
  },
  {
   "cell_type": "code",
   "execution_count": 2,
   "metadata": {},
   "outputs": [
    {
     "data": {
      "text/plain": [
       "['Time',\n",
       " '_dummy',\n",
       " '_derdummy',\n",
       " 'const.k',\n",
       " 'const.y',\n",
       " 'Coal',\n",
       " 'const1.k',\n",
       " 'const1.y',\n",
       " 'Natural_Gas',\n",
       " 'const2.k',\n",
       " 'const2.y',\n",
       " 'Petroleum',\n",
       " 'const3.k',\n",
       " 'const3.y',\n",
       " 'Nuclear',\n",
       " 'const4.k',\n",
       " 'const4.y',\n",
       " 'Renewable',\n",
       " 'const5.k',\n",
       " 'const5.y',\n",
       " 'Conversion_Losse',\n",
       " 'const6.k',\n",
       " 'const6.y',\n",
       " 'Residential',\n",
       " 'const7.k',\n",
       " 'const7.y',\n",
       " 'Commercial',\n",
       " 'const8.k',\n",
       " 'const8.y',\n",
       " 'Industrial',\n",
       " 'const9.k',\n",
       " 'const9.y',\n",
       " 'Transportation']"
      ]
     },
     "execution_count": 2,
     "metadata": {},
     "output_type": "execute_result"
    }
   ],
   "source": [
    "mat.name"
   ]
  },
  {
   "cell_type": "code",
   "execution_count": 3,
   "metadata": {},
   "outputs": [
    {
     "data": {
      "text/plain": [
       "['Time in [s]',\n",
       " 'dummy',\n",
       " 'derdummy',\n",
       " 'Constant output value',\n",
       " 'Connector of Real output signal',\n",
       " 'Connector of Real output signal',\n",
       " 'Constant output value',\n",
       " 'Connector of Real output signal',\n",
       " 'Connector of Real output signal',\n",
       " 'Constant output value',\n",
       " 'Connector of Real output signal',\n",
       " 'Connector of Real output signal',\n",
       " 'Constant output value',\n",
       " 'Connector of Real output signal',\n",
       " 'Connector of Real output signal',\n",
       " 'Constant output value',\n",
       " 'Connector of Real output signal',\n",
       " 'Connector of Real output signal',\n",
       " 'Constant output value',\n",
       " 'Connector of Real output signal',\n",
       " 'Connector of Real output signal',\n",
       " 'Constant output value',\n",
       " 'Connector of Real output signal',\n",
       " 'Connector of Real output signal',\n",
       " 'Constant output value',\n",
       " 'Connector of Real output signal',\n",
       " 'Connector of Real output signal',\n",
       " 'Constant output value',\n",
       " 'Connector of Real output signal',\n",
       " 'Connector of Real output signal',\n",
       " 'Constant output value',\n",
       " 'Connector of Real output signal',\n",
       " 'Connector of Real output signal']"
      ]
     },
     "execution_count": 3,
     "metadata": {},
     "output_type": "execute_result"
    }
   ],
   "source": [
    "mat.description"
   ]
  },
  {
   "cell_type": "code",
   "execution_count": 4,
   "metadata": {},
   "outputs": [
    {
     "data": {
      "text/plain": [
       "array([[ 0,  1,  0, -1],\n",
       "       [ 2,  2,  0, -1],\n",
       "       [ 2,  3,  0, -1],\n",
       "       [ 1,  2,  0,  0],\n",
       "       [ 1,  2,  0,  0],\n",
       "       [ 1,  3,  0,  0],\n",
       "       [ 1,  4,  0,  0],\n",
       "       [ 1,  4,  0,  0],\n",
       "       [ 1,  5,  0,  0],\n",
       "       [ 1,  6,  0,  0],\n",
       "       [ 1,  6,  0,  0],\n",
       "       [ 1,  7,  0,  0],\n",
       "       [ 1,  8,  0,  0],\n",
       "       [ 1,  8,  0,  0],\n",
       "       [ 1,  9,  0,  0],\n",
       "       [ 1, 10,  0,  0],\n",
       "       [ 1, 10,  0,  0],\n",
       "       [ 1, 11,  0,  0],\n",
       "       [ 1, 12,  0,  0],\n",
       "       [ 1, 12,  0,  0],\n",
       "       [ 1, 13,  0,  0],\n",
       "       [ 1, 14,  0,  0],\n",
       "       [ 1, 14,  0,  0],\n",
       "       [ 1, 15,  0,  0],\n",
       "       [ 1, 16,  0,  0],\n",
       "       [ 1, 16,  0,  0],\n",
       "       [ 1, 17,  0,  0],\n",
       "       [ 1, 18,  0,  0],\n",
       "       [ 1, 18,  0,  0],\n",
       "       [ 1, 19,  0,  0],\n",
       "       [ 1, 20,  0,  0],\n",
       "       [ 1, 20,  0,  0],\n",
       "       [ 1, 21,  0,  0]])"
      ]
     },
     "execution_count": 4,
     "metadata": {},
     "output_type": "execute_result"
    }
   ],
   "source": [
    "mat.dataInfo"
   ]
  },
  {
   "cell_type": "code",
   "execution_count": 5,
   "metadata": {},
   "outputs": [
    {
     "data": {
      "text/plain": [
       "array([6157., 6157.], dtype=float32)"
      ]
     },
     "execution_count": 5,
     "metadata": {},
     "output_type": "execute_result"
    }
   ],
   "source": [
    "data=mat.get_variable_data('Coal').x\n",
    "data"
   ]
  },
  {
   "cell_type": "code",
   "execution_count": 6,
   "metadata": {},
   "outputs": [
    {
     "data": {
      "text/plain": [
       "array([ 0., 10.], dtype=float32)"
      ]
     },
     "execution_count": 6,
     "metadata": {},
     "output_type": "execute_result"
    }
   ],
   "source": [
    "mat.get_variable_data('Natural_Gas').t"
   ]
  },
  {
   "cell_type": "code",
   "execution_count": 7,
   "metadata": {},
   "outputs": [
    {
     "data": {
      "text/plain": [
       "array([1960., 1960.], dtype=float32)"
      ]
     },
     "execution_count": 7,
     "metadata": {},
     "output_type": "execute_result"
    }
   ],
   "source": [
    "mat.get_variable_data('Natural_Gas').x"
   ]
  },
  {
   "cell_type": "code",
   "execution_count": 8,
   "metadata": {},
   "outputs": [
    {
     "data": {
      "text/plain": [
       "array([ 0., 10.], dtype=float32)"
      ]
     },
     "execution_count": 8,
     "metadata": {},
     "output_type": "execute_result"
    }
   ],
   "source": [
    "mat.get_variable_data('Transportation').t"
   ]
  },
  {
   "cell_type": "code",
   "execution_count": 9,
   "metadata": {},
   "outputs": [
    {
     "data": {
      "text/plain": [
       "array([387., 387.], dtype=float32)"
      ]
     },
     "execution_count": 9,
     "metadata": {},
     "output_type": "execute_result"
    }
   ],
   "source": [
    "mat.get_variable_data('Petroleum').x"
   ]
  },
  {
   "cell_type": "code",
   "execution_count": 10,
   "metadata": {},
   "outputs": [
    {
     "data": {
      "text/plain": [
       "array([-541., -541.], dtype=float32)"
      ]
     },
     "execution_count": 10,
     "metadata": {},
     "output_type": "execute_result"
    }
   ],
   "source": [
    "mat.get_variable_data('Transportation').x"
   ]
  },
  {
   "cell_type": "code",
   "execution_count": 11,
   "metadata": {},
   "outputs": [
    {
     "data": {
      "text/plain": [
       "array([2383., 2383.], dtype=float32)"
      ]
     },
     "execution_count": 11,
     "metadata": {},
     "output_type": "execute_result"
    }
   ],
   "source": [
    "mat.get_variable_data('Nuclear').x"
   ]
  },
  {
   "cell_type": "code",
   "execution_count": 12,
   "metadata": {},
   "outputs": [
    {
     "data": {
      "text/plain": [
       "array([1240., 1240.], dtype=float32)"
      ]
     },
     "execution_count": 12,
     "metadata": {},
     "output_type": "execute_result"
    }
   ],
   "source": [
    "mat.get_variable_data('Renewable').x"
   ]
  },
  {
   "cell_type": "code",
   "execution_count": 13,
   "metadata": {},
   "outputs": [
    {
     "data": {
      "text/plain": [
       "array([-7942., -7942.], dtype=float32)"
      ]
     },
     "execution_count": 13,
     "metadata": {},
     "output_type": "execute_result"
    }
   ],
   "source": [
    "mat.get_variable_data('Conversion_Losse').x"
   ]
  },
  {
   "cell_type": "code",
   "execution_count": 14,
   "metadata": {},
   "outputs": [
    {
     "data": {
      "text/plain": [
       "array([-1418., -1418.], dtype=float32)"
      ]
     },
     "execution_count": 14,
     "metadata": {},
     "output_type": "execute_result"
    }
   ],
   "source": [
    "mat.get_variable_data('Residential').x"
   ]
  },
  {
   "cell_type": "code",
   "execution_count": 15,
   "metadata": {},
   "outputs": [
    {
     "data": {
      "text/plain": [
       "array([-1266., -1266.], dtype=float32)"
      ]
     },
     "execution_count": 15,
     "metadata": {},
     "output_type": "execute_result"
    }
   ],
   "source": [
    "mat.get_variable_data('Commercial').x"
   ]
  },
  {
   "cell_type": "code",
   "execution_count": 16,
   "metadata": {},
   "outputs": [
    {
     "data": {
      "text/plain": [
       "array([-1017., -1017.], dtype=float32)"
      ]
     },
     "execution_count": 16,
     "metadata": {},
     "output_type": "execute_result"
    }
   ],
   "source": [
    "mat.get_variable_data('Industrial').x"
   ]
  },
  {
   "cell_type": "code",
   "execution_count": 23,
   "metadata": {},
   "outputs": [
    {
     "data": {
      "text/plain": [
       "'temp-plot.html'"
      ]
     },
     "execution_count": 23,
     "metadata": {},
     "output_type": "execute_result"
    }
   ],
   "source": [
    "from  plotly.offline import plot\n",
    "from plotly.graph_objs import *\n",
    "\n",
    "trace1 = {\n",
    "  \"link\": {\n",
    "    \"color\": [\"#262C46\",\"#ff3344\", \"#ffbbcc\", \"#776647\", \"#446677\", \"#336677\", \"#448899\", \"#556677\", \"#337788\", \"#113366\",\"#668899\"],\n",
    "    \"value\": [6157,6157,6157,6157,960,960,960,387,387,2383,2383,1240,1240,1240,-7942,-7942,-7942,-1418,-1266,-1017,-541], \n",
    "    \"source\": [0,0,0,0,1,1,1,2,2,3,3,9,9,4,4,4,8,8,8,7,7,7], \n",
    "    \"target\": [2,3,9,5,3,9,2,6,5,6,5,5,6,9,3,5,6,2,3,9,3,5]\n",
    "  }, \n",
    "  \"node\": {\n",
    "    \"pad\": 10, \n",
    "    \"line\": {\n",
    "      \"color\": \"Black\", \n",
    "      \"width\": 0.5\n",
    "    }, \n",
    "    \"color\": [\"#262C46\",\"#ff3344\", \"#ffbbcc\", \"#776647\", \"#446677\", \"#336677\", \"#448899\", \"#556677\", \"#337788\", \"#113366\",\"#668899\"], \n",
    "    \"label\": [\"Coal\", \"Natural_Gas\", \"Petroleum\", \"Renewable\", \"Conversion_Loose\", \"Residential\", \"Commerical\", \"Industrial\", \"Transportion\"], \n",
    "    \"thickness\": 30\n",
    "  }, \n",
    "  \"type\": \"sankey\", \n",
    "  \"domain\": {\n",
    "    \"x\": [0, 1], \n",
    "    \"y\": [0, 1]\n",
    "  }, \n",
    "  \"orientation\": \"h\", \n",
    "  \"valueformat\": \".0f\"\n",
    "}\n",
    "data = Data([trace1])\n",
    "\n",
    "fig = Figure(data=data)\n",
    "plot(fig)"
   ]
  },
  {
   "cell_type": "code",
   "execution_count": null,
   "metadata": {},
   "outputs": [],
   "source": []
  }
 ],
 "metadata": {
  "kernelspec": {
   "display_name": "Python 3",
   "language": "python",
   "name": "python3"
  },
  "language_info": {
   "codemirror_mode": {
    "name": "ipython",
    "version": 3
   },
   "file_extension": ".py",
   "mimetype": "text/x-python",
   "name": "python",
   "nbconvert_exporter": "python",
   "pygments_lexer": "ipython3",
   "version": "3.8.3"
  }
 },
 "nbformat": 4,
 "nbformat_minor": 4
}
