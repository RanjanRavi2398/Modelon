{
 "cells": [
  {
   "cell_type": "code",
   "execution_count": 1,
   "metadata": {},
   "outputs": [
    {
     "data": {
      "text/plain": [
       "['Time',\n",
       " '_dummy',\n",
       " '_derdummy',\n",
       " 'const.k',\n",
       " 'const.y',\n",
       " 'Coal',\n",
       " 'const1.k',\n",
       " 'const1.y',\n",
       " 'Natural_Gas',\n",
       " 'const2.k',\n",
       " 'const2.y',\n",
       " 'Petroleum',\n",
       " 'const3.k',\n",
       " 'const3.y',\n",
       " 'Nuclear',\n",
       " 'const4.k',\n",
       " 'const4.y',\n",
       " 'Renewable',\n",
       " 'const5.k',\n",
       " 'const5.y',\n",
       " 'Conversion_Losse',\n",
       " 'const6.k',\n",
       " 'const6.y',\n",
       " 'Residential',\n",
       " 'const7.k',\n",
       " 'const7.y',\n",
       " 'Commercial',\n",
       " 'const8.k',\n",
       " 'const8.y',\n",
       " 'Industrial',\n",
       " 'const9.k',\n",
       " 'const9.y',\n",
       " 'Transportation']"
      ]
     },
     "execution_count": 1,
     "metadata": {},
     "output_type": "execute_result"
    }
   ],
   "source": [
    "from pyfmi.common.io import ResultDymolaBinary\n",
    "import pandas as pd\n",
    "import sys\n",
    "import numpy as np\n",
    "from  plotly.offline import plot\n",
    "from plotly.graph_objs import *\n",
    "      # get the data from the values dictionary\n",
    "mat=ResultDymolaBinary('TestValues.mat')\n",
    "mat_name=mat.name\n",
    "mat_name"
   ]
  },
  {
   "cell_type": "code",
   "execution_count": 2,
   "metadata": {},
   "outputs": [
    {
     "data": {
      "text/plain": [
       "['Coal',\n",
       " 'Petroleum',\n",
       " 'Nuclear',\n",
       " 'Renewable',\n",
       " 'Residential',\n",
       " 'Commercial',\n",
       " 'Industrial',\n",
       " 'Transportation']"
      ]
     },
     "metadata": {},
     "output_type": "display_data"
    },
    {
     "data": {
      "text/plain": [
       "[array([6157., 6157.], dtype=float32),\n",
       " array([387., 387.], dtype=float32),\n",
       " array([2383., 2383.], dtype=float32),\n",
       " array([1240., 1240.], dtype=float32),\n",
       " array([-1418., -1418.], dtype=float32),\n",
       " array([-1266., -1266.], dtype=float32),\n",
       " array([-1017., -1017.], dtype=float32),\n",
       " array([-541., -541.], dtype=float32)]"
      ]
     },
     "metadata": {},
     "output_type": "display_data"
    }
   ],
   "source": [
    "Node=[mat_name]\n",
    "for y in Node:\n",
    "    data_1=[data for data in y if \".k\" not in data]\n",
    "    data_2=[data for data in data_1 if \".y\" not in data]\n",
    "    Data1=[data for data in data_2 if \"_\" not in data]\n",
    "    Data=[data for data in Data1 if \"Time\" not in data]\n",
    "Str=[ ]\n",
    "for DATA in Data:\n",
    "    Str.append(DATA)\n",
    "len_data=len(Data)\n",
    "for i in Data:\n",
    "    time=mat.get_variable_data(i).t\n",
    "\n",
    "Value=[]\n",
    "for i in Data:\n",
    "    value=mat.get_variable_data(i).x\n",
    "    Value.append(value)\n",
    "display(Data)\n",
    "display(Value)\n"
   ]
  },
  {
   "cell_type": "code",
   "execution_count": 3,
   "metadata": {
    "scrolled": false
   },
   "outputs": [
    {
     "name": "stdout",
     "output_type": "stream",
     "text": [
      "Enter the item for source supply\n",
      "Coal\n",
      "Enter the item for source supply\n",
      "Industrial\n",
      "Enter the item for source supply\n",
      "Renewable\n",
      "Enter the item for source supply\n",
      "Nuclear\n",
      "Enter the item for source supply\n",
      "Transporation\n",
      "Enter the item for source supply\n",
      "Petroleum\n",
      "Enter the item for source supply\n",
      "Residential\n",
      "Enter the item for source supply\n",
      "Commercial\n"
     ]
    }
   ],
   "source": [
    "def is_negated(self, name):\n",
    "        \"\"\"\n",
    "        Returns True if the given name corresponds to a negated result vector.\n",
    "        \n",
    "        Parameters::\n",
    "        \n",
    "            name -- \n",
    "                Name of the variable/parameter/constant.\n",
    "                \n",
    "        Returns::\n",
    "        \n",
    "            True if the result should be negated\n",
    "        \"\"\"\n",
    "        varInd  = self.get_variable_index(name)\n",
    "        dataInd = self.raw['dataInfo'][1][varInd]\n",
    "        if dataInd<0:\n",
    "            return True\n",
    "        else:\n",
    "            return False\n",
    "for i in Data:\n",
    "    value=mat.is_negated(i)\n",
    "SourceSupply = []\n",
    "\n",
    "\n",
    "\n",
    "for i in range(0, len_data):\n",
    "    print(\"Enter the item for source supply\")\n",
    "    item = str(input())\n",
    "    SourceSupply.append(item)\n",
    "len_source=len(SourceSupply)\n",
    "Link_color=['#262C46','#ff3344','#ffbbcc','#776647','#446677','#336677','#448899','#556677']\n",
    "len_color=len(Link_color)\n",
    "Supply=[]\n",
    "Colors_1=[]\n",
    "for i in  range(0,len_data):\n",
    "    for j in range(0,len_source):\n",
    "        if (SourceSupply[i]==Data[j]):\n",
    "            Supply.append(j)\n",
    "            Colors_1.append(Link_color[j])\n",
    "\n",
    "\n",
    "\n"
   ]
  },
  {
   "cell_type": "code",
   "execution_count": 4,
   "metadata": {},
   "outputs": [
    {
     "name": "stdout",
     "output_type": "stream",
     "text": [
      "Enter the item for Transformation supply\n",
      "Nuclear\n",
      "Enter the item for Transformation supply\n",
      "Transportation\n",
      "Enter the item for Transformation supply\n",
      "Petroleum\n",
      "Enter the item for Transformation supply\n",
      "Residential\n",
      "Enter the item for Transformation supply\n",
      "Commercial\n",
      "Enter the item for Transformation supply\n",
      "Coal\n",
      "Enter the item for Transformation supply\n",
      "Industrial\n",
      "Enter the item for Transformation supply\n",
      "Coal\n"
     ]
    }
   ],
   "source": [
    "Transformation = []\n",
    "\n",
    "for i in range(0, len_data):\n",
    "    \n",
    "    print(\"Enter the item for Transformation supply\")\n",
    "    item = str(input())\n",
    "    Transformation.append(item)\n",
    "len_transformation=len(Transformation)\n",
    "Trans=[]\n",
    "Colors_2=[]\n",
    "for i in  range(0,len_data):\n",
    "    for j in range(0,len_transformation):\n",
    "        if (Transformation[i]==Data[j]):\n",
    "            Trans.append(j)\n",
    "            Colors_2.append(Link_color[j])\n",
    "\n",
    "\n"
   ]
  },
  {
   "cell_type": "code",
   "execution_count": 5,
   "metadata": {},
   "outputs": [
    {
     "name": "stdout",
     "output_type": "stream",
     "text": [
      "Enter the item for Consumption supply\n",
      "Residential\n",
      "Enter the item for Consumption supply\n",
      "Commercial\n",
      "Enter the item for Consumption supply\n",
      "Petroleum\n",
      "Enter the item for Consumption supply\n",
      "Coal\n",
      "Enter the item for Consumption supply\n",
      "Industrial\n",
      "Enter the item for Consumption supply\n",
      "Renewable\n",
      "Enter the item for Consumption supply\n",
      "Nuclear\n",
      "Enter the item for Consumption supply\n",
      "Industrial\n"
     ]
    }
   ],
   "source": [
    "Consumption = []\n",
    "\n",
    "\n",
    "\n",
    "for i in range(0,len_data):\n",
    "    print(\"Enter the item for Consumption supply\")\n",
    "    item = str(input())\n",
    "    Consumption.append(item)\n",
    "len_consumption=len(Consumption)\n",
    "consume=[]\n",
    "Colors_3=[]\n",
    "for i in  range(0,len_data):\n",
    "    for j in range(0,len_consumption):\n",
    "        if (Consumption[i]==Data[j]):\n",
    "            consume.append(j)\n",
    "            Colors_3.append(Link_color[j])\n",
    "Source=np.concatenate((Supply,Trans))\n",
    "Target=np.concatenate((Trans,consume))\n",
    "Colors=np.concatenate((Colors_1,Colors_2,Colors_3))"
   ]
  },
  {
   "cell_type": "code",
   "execution_count": 6,
   "metadata": {},
   "outputs": [
    {
     "name": "stderr",
     "output_type": "stream",
     "text": [
      "/home/raviy/anaconda3/lib/python3.8/site-packages/plotly/graph_objs/_deprecations.py:31: DeprecationWarning:\n",
      "\n",
      "plotly.graph_objs.Data is deprecated.\n",
      "Please replace it with a list or tuple of instances of the following types\n",
      "  - plotly.graph_objs.Scatter\n",
      "  - plotly.graph_objs.Bar\n",
      "  - plotly.graph_objs.Area\n",
      "  - plotly.graph_objs.Histogram\n",
      "  - etc.\n",
      "\n",
      "\n"
     ]
    },
    {
     "data": {
      "text/plain": [
       "'temp-plot.html'"
      ]
     },
     "execution_count": 6,
     "metadata": {},
     "output_type": "execute_result"
    }
   ],
   "source": [
    "from  plotly.offline import plot\n",
    "from plotly.graph_objs import *\n",
    "\n",
    "\n",
    "trace1 = {\n",
    "  \"link\": {\n",
    "    \"color\": Colors,\n",
    "    \"value\": [6157,6157,387,387,2383,2383,1240,1240,1240,1240,-1418,345,4555,6455,4554,665,6545,657,543,656,7666,6563,3454], \n",
    "    \"source\": Source, \n",
    "    \"target\": Target\n",
    "  }, \n",
    "  \"node\": {\n",
    "    \"pad\": 10, \n",
    "    \"line\": {\n",
    "      \"color\": \"Black\", \n",
    "      \"width\": 0.5\n",
    "    }, \n",
    "    \"color\": ['#262C46','#ff3344','#ffbbcc','#776647','#446677','#336677','#448899','#556677'], \n",
    "    \"label\":Str,\n",
    "    \"thickness\": 30\n",
    "  }, \n",
    "  \"type\": \"sankey\", \n",
    "  \"domain\": {\n",
    "    \"x\": [0, 1], \n",
    "    \"y\": [0, 1]\n",
    "  }, \n",
    "  \"orientation\": \"h\", \n",
    "  \"valueformat\": \".0f\"\n",
    "}\n",
    "data = Data([trace1])\n",
    "\n",
    "fig = Figure(data=data)\n",
    "plot(fig)\n",
    "\n",
    "\n",
    "\n"
   ]
  }
 ],
 "metadata": {
  "kernelspec": {
   "display_name": "Python 3",
   "language": "python",
   "name": "python3"
  },
  "language_info": {
   "codemirror_mode": {
    "name": "ipython",
    "version": 3
   },
   "file_extension": ".py",
   "mimetype": "text/x-python",
   "name": "python",
   "nbconvert_exporter": "python",
   "pygments_lexer": "ipython3",
   "version": "3.8.5"
  }
 },
 "nbformat": 4,
 "nbformat_minor": 4
}
